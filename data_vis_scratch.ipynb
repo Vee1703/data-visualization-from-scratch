{
  "nbformat": 4,
  "nbformat_minor": 0,
  "metadata": {
    "colab": {
      "provenance": []
    },
    "kernelspec": {
      "name": "python3",
      "display_name": "Python 3"
    },
    "language_info": {
      "name": "python"
    }
  },
  "cells": [
    {
      "cell_type": "code",
      "execution_count": null,
      "metadata": {
        "id": "kP-ZNE0Uiihc"
      },
      "outputs": [],
      "source": [
        "eleimport pandas as pd\n",
        "import numpy as np\n",
        "from sklearn.model_selection import train_test_split as tts\n",
        "from sklearn.preprocessing import StandardScaler\n",
        "from sklearn import preprocessing\n",
        "from sklearn.ensemble import RandomForestClassifier as rfc\n",
        "from sklearn.tree import DecisionTreeClassifier as dtc\n",
        "from sklearn.svm import SVC\n",
        "from sklearn.metrics import accuracy_score as acc\n",
        "from sklearn.metrics import f1_score as f1\n",
        "from sklearn.metrics import precision_score as ps\n",
        "from sklearn.metrics import recall_score as rc\n",
        "from sklearn.model_selection import cross_val_score\n",
        "import seaborn as sns\n",
        "import matplotlib.pyplot as plt\n",
        "import warnings\n",
        "warnings.filterwarnings(\"ignore\")\n",
        "from tabulate import tabulate\n",
        "from sklearn.model_selection import KFold"
      ]
    },
    {
      "cell_type": "markdown",
      "source": [
        "# Helper Functions"
      ],
      "metadata": {
        "id": "MuS69ohuZBsY"
      }
    },
    {
      "cell_type": "code",
      "source": [
        "def crossval_on_models(x,y,title):\n",
        "  clf1=dtc()\n",
        "  print(\"5 fold cross validation on DTC:\",cross_val_score(clf1,x,y,cv=5))\n",
        "  clf2=SVC()\n",
        "  print(\"5 fold cross validation on SVC:\",cross_val_score(clf2,x,y,cv=5))\n",
        "  cval_dtc=cross_val_score(clf1,x,y,cv=5)\n",
        "  cval_svc=cross_val_score(clf2,x,y,cv=5)\n",
        "  plt.plot(cval_dtc,marker='o')\n",
        "  plt.plot(cval_svc,marker='o')\n",
        "  plt.title(title)\n",
        "  plt.ylabel('Accuracy')\n",
        "  plt.xlabel('Fold No.')\n",
        "  plt.show()"
      ],
      "metadata": {
        "id": "gvJqe7vWioNi"
      },
      "execution_count": null,
      "outputs": []
    },
    {
      "cell_type": "code",
      "source": [
        "def fivefoldtest(X,Y):\n",
        "  accs=[]\n",
        "  kf=KFold(n_splits=5,shuffle=True)\n",
        "  for train_index, test_index in kf.split(X):\n",
        "    x1,x2=X[train_index] , X[test_index]\n",
        "    y1,y2=Y[train_index] , Y[test_index]\n",
        "    clf=LDA(x1,y1,0.95)\n",
        "    _=clf.reduceddim()\n",
        "    pred=[]\n",
        "    for i in x2:\n",
        "      pred.append(clf.predict(i))\n",
        "    # print(pred,y2,'\\n')\n",
        "    accs.append(acc(y2,pred))\n",
        "  return(accs)"
      ],
      "metadata": {
        "id": "SQHEPMoqMVnd"
      },
      "execution_count": null,
      "outputs": []
    },
    {
      "cell_type": "code",
      "source": [
        "def evaluation_on_models(x,y):\n",
        "  x_train,x_test,y_train,y_test=tts(x,y,test_size=0.3)\n",
        "  clf1=dtc()\n",
        "  clf1.fit(x_train,y_train)\n",
        "  print(\"for DTC \\naccuracy:\",acc(y_test,clf1.predict(x_test)),\"\\nf1 score:\",f1(y_test,clf1.predict(x_test),average='weighted'),\"\\nprecision:\",ps(y_test,clf1.predict(x_test),average='weighted'),\"\\nrecall:\",rc(y_test,clf1.predict(x_test),average='weighted'))\n",
        "\n",
        "  clf2=SVC()\n",
        "  clf2.fit(x_train,y_train)\n",
        "  print(\"for SVC \\naccuracy:\",acc(y_test,clf2.predict(x_test)),\"\\nf1 score:\",f1(y_test,clf2.predict(x_test),average='weighted'),\"\\nprecision:\",ps(y_test,clf2.predict(x_test),average='weighted'),\"\\nrecall:\",rc(y_test,clf2.predict(x_test),average='weighted'))\n",
        "\n",
        "  return(acc(y_test,clf1.predict(x_test)) , acc(y_test,clf2.predict(x_test)))"
      ],
      "metadata": {
        "id": "UmFsBKR5ljQa"
      },
      "execution_count": null,
      "outputs": []
    },
    {
      "cell_type": "code",
      "source": [
        "def eigenvecs(red_df,a,b):\n",
        "  PC3=red_df[:,a]\n",
        "  PC2=red_df[:,b]\n",
        "  u3=np.mean(PC3)\n",
        "  u2=np.mean(PC2)\n",
        "\n",
        "  cov=0\n",
        "  for i in range(len(PC3)):\n",
        "    cov+=(PC3[i]-u3)*(PC2[i]-u2)\n",
        "  cov=cov/len(PC3)\n",
        "  var3=0\n",
        "  for i in range(len(PC3)):\n",
        "    var3+=(PC3[i]-u3)**2\n",
        "  var3=var3/len(PC3)\n",
        "  var2=0\n",
        "  for i in range(len(PC2)):\n",
        "    var2+=(PC2[i]-u2)**2\n",
        "  var2=var2/len(PC3)\n",
        "\n",
        "  covmat=[[var3,cov],[cov,var2]]\n",
        "  _,vec=np.linalg.eig(covmat)\n",
        "  return(vec)"
      ],
      "metadata": {
        "id": "5iTtl8sbKuh9"
      },
      "execution_count": null,
      "outputs": []
    },
    {
      "cell_type": "markdown",
      "source": [
        "# Q1"
      ],
      "metadata": {
        "id": "fWM7ueC5ZKwp"
      }
    },
    {
      "cell_type": "code",
      "source": [
        "df1=pd.read_csv(\"/content/anneal.data\")\n",
        "df1=df1.to_numpy()\n",
        "df2=pd.read_csv(\"/content/anneal.test\")\n",
        "df2=df2.to_numpy()"
      ],
      "metadata": {
        "id": "ZZHKCwX7j0IA"
      },
      "execution_count": null,
      "outputs": []
    },
    {
      "cell_type": "code",
      "source": [
        "def addcols(data):\n",
        "  n=len(data[0])\n",
        "  cols=[]\n",
        "  for i in range(n):\n",
        "    s=\"X\"+str(i)\n",
        "    cols.append(s)\n",
        "  np.insert(data,0,cols)\n"
      ],
      "metadata": {
        "id": "Qrk1yWVpnY3N"
      },
      "execution_count": null,
      "outputs": []
    },
    {
      "cell_type": "code",
      "source": [
        "addcols(df1)\n",
        "df1=pd.DataFrame(df1)\n",
        "addcols(df2)\n",
        "df2=pd.DataFrame(df2)"
      ],
      "metadata": {
        "id": "BFmbIzNFpcSj"
      },
      "execution_count": null,
      "outputs": []
    },
    {
      "cell_type": "code",
      "source": [
        "df1"
      ],
      "metadata": {
        "colab": {
          "base_uri": "https://localhost:8080/",
          "height": 423
        },
        "id": "qYK_s0L9nTgN",
        "outputId": "3603caf1-abc1-4f28-9255-287a980a868d"
      },
      "execution_count": null,
      "outputs": [
        {
          "output_type": "execute_result",
          "data": {
            "text/plain": [
              "    0  1  2  3   4  5  6  7  8  9   ... 29 30     31     32      33    34 35  \\\n",
              "0    ?  C  R  0   0  ?  S  2  0  ?  ...  ?  ?   COIL    3.2   610.0     0  ?   \n",
              "1    ?  C  R  0   0  ?  S  2  0  ?  ...  ?  ?  SHEET    0.7  1300.0   762  ?   \n",
              "2    ?  C  A  0  60  T  ?  ?  0  ?  ...  ?  ?   COIL  2.801   385.1     0  ?   \n",
              "3    ?  C  A  0  60  T  ?  ?  0  ?  ...  ?  ?  SHEET  0.801   255.0   269  ?   \n",
              "4    ?  C  A  0  45  ?  S  ?  0  ?  ...  ?  ?   COIL    1.6   610.0     0  ?   \n",
              "..  .. .. .. ..  .. .. .. .. .. ..  ... .. ..    ...    ...     ...   ... ..   \n",
              "792  ?  C  A  0  50  T  ?  ?  0  ?  ...  ?  ?   COIL  1.001    50.0     0  Y   \n",
              "793  ?  C  ?  0   0  ?  S  1  0  ?  ...  ?  ?  SHEET  0.699  1300.0  4880  ?   \n",
              "794  ?  C  A  0   0  ?  S  2  0  ?  ...  ?  ?   COIL    0.4   609.9     0  ?   \n",
              "795  ?  C  A  0   0  ?  S  2  0  ?  ...  ?  ?  SHEET    3.2   610.0  4880  ?   \n",
              "796  ?  C  R  0   0  ?  S  2  0  ?  ...  ?  ?  SHEET  1.599  1500.0  4170  ?   \n",
              "\n",
              "    36 37 38  \n",
              "0    0  ?  3  \n",
              "1    0  ?  3  \n",
              "2    0  ?  3  \n",
              "3    0  ?  3  \n",
              "4    0  ?  3  \n",
              "..  .. .. ..  \n",
              "792  0  ?  3  \n",
              "793  0  ?  3  \n",
              "794  0  ?  3  \n",
              "795  0  ?  3  \n",
              "796  0  ?  2  \n",
              "\n",
              "[797 rows x 39 columns]"
            ],
            "text/html": [
              "\n",
              "  <div id=\"df-87b4dbfe-15fd-47eb-93ab-29e322f57e21\">\n",
              "    <div class=\"colab-df-container\">\n",
              "      <div>\n",
              "<style scoped>\n",
              "    .dataframe tbody tr th:only-of-type {\n",
              "        vertical-align: middle;\n",
              "    }\n",
              "\n",
              "    .dataframe tbody tr th {\n",
              "        vertical-align: top;\n",
              "    }\n",
              "\n",
              "    .dataframe thead th {\n",
              "        text-align: right;\n",
              "    }\n",
              "</style>\n",
              "<table border=\"1\" class=\"dataframe\">\n",
              "  <thead>\n",
              "    <tr style=\"text-align: right;\">\n",
              "      <th></th>\n",
              "      <th>0</th>\n",
              "      <th>1</th>\n",
              "      <th>2</th>\n",
              "      <th>3</th>\n",
              "      <th>4</th>\n",
              "      <th>5</th>\n",
              "      <th>6</th>\n",
              "      <th>7</th>\n",
              "      <th>8</th>\n",
              "      <th>9</th>\n",
              "      <th>...</th>\n",
              "      <th>29</th>\n",
              "      <th>30</th>\n",
              "      <th>31</th>\n",
              "      <th>32</th>\n",
              "      <th>33</th>\n",
              "      <th>34</th>\n",
              "      <th>35</th>\n",
              "      <th>36</th>\n",
              "      <th>37</th>\n",
              "      <th>38</th>\n",
              "    </tr>\n",
              "  </thead>\n",
              "  <tbody>\n",
              "    <tr>\n",
              "      <th>0</th>\n",
              "      <td>?</td>\n",
              "      <td>C</td>\n",
              "      <td>R</td>\n",
              "      <td>0</td>\n",
              "      <td>0</td>\n",
              "      <td>?</td>\n",
              "      <td>S</td>\n",
              "      <td>2</td>\n",
              "      <td>0</td>\n",
              "      <td>?</td>\n",
              "      <td>...</td>\n",
              "      <td>?</td>\n",
              "      <td>?</td>\n",
              "      <td>COIL</td>\n",
              "      <td>3.2</td>\n",
              "      <td>610.0</td>\n",
              "      <td>0</td>\n",
              "      <td>?</td>\n",
              "      <td>0</td>\n",
              "      <td>?</td>\n",
              "      <td>3</td>\n",
              "    </tr>\n",
              "    <tr>\n",
              "      <th>1</th>\n",
              "      <td>?</td>\n",
              "      <td>C</td>\n",
              "      <td>R</td>\n",
              "      <td>0</td>\n",
              "      <td>0</td>\n",
              "      <td>?</td>\n",
              "      <td>S</td>\n",
              "      <td>2</td>\n",
              "      <td>0</td>\n",
              "      <td>?</td>\n",
              "      <td>...</td>\n",
              "      <td>?</td>\n",
              "      <td>?</td>\n",
              "      <td>SHEET</td>\n",
              "      <td>0.7</td>\n",
              "      <td>1300.0</td>\n",
              "      <td>762</td>\n",
              "      <td>?</td>\n",
              "      <td>0</td>\n",
              "      <td>?</td>\n",
              "      <td>3</td>\n",
              "    </tr>\n",
              "    <tr>\n",
              "      <th>2</th>\n",
              "      <td>?</td>\n",
              "      <td>C</td>\n",
              "      <td>A</td>\n",
              "      <td>0</td>\n",
              "      <td>60</td>\n",
              "      <td>T</td>\n",
              "      <td>?</td>\n",
              "      <td>?</td>\n",
              "      <td>0</td>\n",
              "      <td>?</td>\n",
              "      <td>...</td>\n",
              "      <td>?</td>\n",
              "      <td>?</td>\n",
              "      <td>COIL</td>\n",
              "      <td>2.801</td>\n",
              "      <td>385.1</td>\n",
              "      <td>0</td>\n",
              "      <td>?</td>\n",
              "      <td>0</td>\n",
              "      <td>?</td>\n",
              "      <td>3</td>\n",
              "    </tr>\n",
              "    <tr>\n",
              "      <th>3</th>\n",
              "      <td>?</td>\n",
              "      <td>C</td>\n",
              "      <td>A</td>\n",
              "      <td>0</td>\n",
              "      <td>60</td>\n",
              "      <td>T</td>\n",
              "      <td>?</td>\n",
              "      <td>?</td>\n",
              "      <td>0</td>\n",
              "      <td>?</td>\n",
              "      <td>...</td>\n",
              "      <td>?</td>\n",
              "      <td>?</td>\n",
              "      <td>SHEET</td>\n",
              "      <td>0.801</td>\n",
              "      <td>255.0</td>\n",
              "      <td>269</td>\n",
              "      <td>?</td>\n",
              "      <td>0</td>\n",
              "      <td>?</td>\n",
              "      <td>3</td>\n",
              "    </tr>\n",
              "    <tr>\n",
              "      <th>4</th>\n",
              "      <td>?</td>\n",
              "      <td>C</td>\n",
              "      <td>A</td>\n",
              "      <td>0</td>\n",
              "      <td>45</td>\n",
              "      <td>?</td>\n",
              "      <td>S</td>\n",
              "      <td>?</td>\n",
              "      <td>0</td>\n",
              "      <td>?</td>\n",
              "      <td>...</td>\n",
              "      <td>?</td>\n",
              "      <td>?</td>\n",
              "      <td>COIL</td>\n",
              "      <td>1.6</td>\n",
              "      <td>610.0</td>\n",
              "      <td>0</td>\n",
              "      <td>?</td>\n",
              "      <td>0</td>\n",
              "      <td>?</td>\n",
              "      <td>3</td>\n",
              "    </tr>\n",
              "    <tr>\n",
              "      <th>...</th>\n",
              "      <td>...</td>\n",
              "      <td>...</td>\n",
              "      <td>...</td>\n",
              "      <td>...</td>\n",
              "      <td>...</td>\n",
              "      <td>...</td>\n",
              "      <td>...</td>\n",
              "      <td>...</td>\n",
              "      <td>...</td>\n",
              "      <td>...</td>\n",
              "      <td>...</td>\n",
              "      <td>...</td>\n",
              "      <td>...</td>\n",
              "      <td>...</td>\n",
              "      <td>...</td>\n",
              "      <td>...</td>\n",
              "      <td>...</td>\n",
              "      <td>...</td>\n",
              "      <td>...</td>\n",
              "      <td>...</td>\n",
              "      <td>...</td>\n",
              "    </tr>\n",
              "    <tr>\n",
              "      <th>792</th>\n",
              "      <td>?</td>\n",
              "      <td>C</td>\n",
              "      <td>A</td>\n",
              "      <td>0</td>\n",
              "      <td>50</td>\n",
              "      <td>T</td>\n",
              "      <td>?</td>\n",
              "      <td>?</td>\n",
              "      <td>0</td>\n",
              "      <td>?</td>\n",
              "      <td>...</td>\n",
              "      <td>?</td>\n",
              "      <td>?</td>\n",
              "      <td>COIL</td>\n",
              "      <td>1.001</td>\n",
              "      <td>50.0</td>\n",
              "      <td>0</td>\n",
              "      <td>Y</td>\n",
              "      <td>0</td>\n",
              "      <td>?</td>\n",
              "      <td>3</td>\n",
              "    </tr>\n",
              "    <tr>\n",
              "      <th>793</th>\n",
              "      <td>?</td>\n",
              "      <td>C</td>\n",
              "      <td>?</td>\n",
              "      <td>0</td>\n",
              "      <td>0</td>\n",
              "      <td>?</td>\n",
              "      <td>S</td>\n",
              "      <td>1</td>\n",
              "      <td>0</td>\n",
              "      <td>?</td>\n",
              "      <td>...</td>\n",
              "      <td>?</td>\n",
              "      <td>?</td>\n",
              "      <td>SHEET</td>\n",
              "      <td>0.699</td>\n",
              "      <td>1300.0</td>\n",
              "      <td>4880</td>\n",
              "      <td>?</td>\n",
              "      <td>0</td>\n",
              "      <td>?</td>\n",
              "      <td>3</td>\n",
              "    </tr>\n",
              "    <tr>\n",
              "      <th>794</th>\n",
              "      <td>?</td>\n",
              "      <td>C</td>\n",
              "      <td>A</td>\n",
              "      <td>0</td>\n",
              "      <td>0</td>\n",
              "      <td>?</td>\n",
              "      <td>S</td>\n",
              "      <td>2</td>\n",
              "      <td>0</td>\n",
              "      <td>?</td>\n",
              "      <td>...</td>\n",
              "      <td>?</td>\n",
              "      <td>?</td>\n",
              "      <td>COIL</td>\n",
              "      <td>0.4</td>\n",
              "      <td>609.9</td>\n",
              "      <td>0</td>\n",
              "      <td>?</td>\n",
              "      <td>0</td>\n",
              "      <td>?</td>\n",
              "      <td>3</td>\n",
              "    </tr>\n",
              "    <tr>\n",
              "      <th>795</th>\n",
              "      <td>?</td>\n",
              "      <td>C</td>\n",
              "      <td>A</td>\n",
              "      <td>0</td>\n",
              "      <td>0</td>\n",
              "      <td>?</td>\n",
              "      <td>S</td>\n",
              "      <td>2</td>\n",
              "      <td>0</td>\n",
              "      <td>?</td>\n",
              "      <td>...</td>\n",
              "      <td>?</td>\n",
              "      <td>?</td>\n",
              "      <td>SHEET</td>\n",
              "      <td>3.2</td>\n",
              "      <td>610.0</td>\n",
              "      <td>4880</td>\n",
              "      <td>?</td>\n",
              "      <td>0</td>\n",
              "      <td>?</td>\n",
              "      <td>3</td>\n",
              "    </tr>\n",
              "    <tr>\n",
              "      <th>796</th>\n",
              "      <td>?</td>\n",
              "      <td>C</td>\n",
              "      <td>R</td>\n",
              "      <td>0</td>\n",
              "      <td>0</td>\n",
              "      <td>?</td>\n",
              "      <td>S</td>\n",
              "      <td>2</td>\n",
              "      <td>0</td>\n",
              "      <td>?</td>\n",
              "      <td>...</td>\n",
              "      <td>?</td>\n",
              "      <td>?</td>\n",
              "      <td>SHEET</td>\n",
              "      <td>1.599</td>\n",
              "      <td>1500.0</td>\n",
              "      <td>4170</td>\n",
              "      <td>?</td>\n",
              "      <td>0</td>\n",
              "      <td>?</td>\n",
              "      <td>2</td>\n",
              "    </tr>\n",
              "  </tbody>\n",
              "</table>\n",
              "<p>797 rows × 39 columns</p>\n",
              "</div>\n",
              "      <button class=\"colab-df-convert\" onclick=\"convertToInteractive('df-87b4dbfe-15fd-47eb-93ab-29e322f57e21')\"\n",
              "              title=\"Convert this dataframe to an interactive table.\"\n",
              "              style=\"display:none;\">\n",
              "        \n",
              "  <svg xmlns=\"http://www.w3.org/2000/svg\" height=\"24px\"viewBox=\"0 0 24 24\"\n",
              "       width=\"24px\">\n",
              "    <path d=\"M0 0h24v24H0V0z\" fill=\"none\"/>\n",
              "    <path d=\"M18.56 5.44l.94 2.06.94-2.06 2.06-.94-2.06-.94-.94-2.06-.94 2.06-2.06.94zm-11 1L8.5 8.5l.94-2.06 2.06-.94-2.06-.94L8.5 2.5l-.94 2.06-2.06.94zm10 10l.94 2.06.94-2.06 2.06-.94-2.06-.94-.94-2.06-.94 2.06-2.06.94z\"/><path d=\"M17.41 7.96l-1.37-1.37c-.4-.4-.92-.59-1.43-.59-.52 0-1.04.2-1.43.59L10.3 9.45l-7.72 7.72c-.78.78-.78 2.05 0 2.83L4 21.41c.39.39.9.59 1.41.59.51 0 1.02-.2 1.41-.59l7.78-7.78 2.81-2.81c.8-.78.8-2.07 0-2.86zM5.41 20L4 18.59l7.72-7.72 1.47 1.35L5.41 20z\"/>\n",
              "  </svg>\n",
              "      </button>\n",
              "      \n",
              "  <style>\n",
              "    .colab-df-container {\n",
              "      display:flex;\n",
              "      flex-wrap:wrap;\n",
              "      gap: 12px;\n",
              "    }\n",
              "\n",
              "    .colab-df-convert {\n",
              "      background-color: #E8F0FE;\n",
              "      border: none;\n",
              "      border-radius: 50%;\n",
              "      cursor: pointer;\n",
              "      display: none;\n",
              "      fill: #1967D2;\n",
              "      height: 32px;\n",
              "      padding: 0 0 0 0;\n",
              "      width: 32px;\n",
              "    }\n",
              "\n",
              "    .colab-df-convert:hover {\n",
              "      background-color: #E2EBFA;\n",
              "      box-shadow: 0px 1px 2px rgba(60, 64, 67, 0.3), 0px 1px 3px 1px rgba(60, 64, 67, 0.15);\n",
              "      fill: #174EA6;\n",
              "    }\n",
              "\n",
              "    [theme=dark] .colab-df-convert {\n",
              "      background-color: #3B4455;\n",
              "      fill: #D2E3FC;\n",
              "    }\n",
              "\n",
              "    [theme=dark] .colab-df-convert:hover {\n",
              "      background-color: #434B5C;\n",
              "      box-shadow: 0px 1px 3px 1px rgba(0, 0, 0, 0.15);\n",
              "      filter: drop-shadow(0px 1px 2px rgba(0, 0, 0, 0.3));\n",
              "      fill: #FFFFFF;\n",
              "    }\n",
              "  </style>\n",
              "\n",
              "      <script>\n",
              "        const buttonEl =\n",
              "          document.querySelector('#df-87b4dbfe-15fd-47eb-93ab-29e322f57e21 button.colab-df-convert');\n",
              "        buttonEl.style.display =\n",
              "          google.colab.kernel.accessAllowed ? 'block' : 'none';\n",
              "\n",
              "        async function convertToInteractive(key) {\n",
              "          const element = document.querySelector('#df-87b4dbfe-15fd-47eb-93ab-29e322f57e21');\n",
              "          const dataTable =\n",
              "            await google.colab.kernel.invokeFunction('convertToInteractive',\n",
              "                                                     [key], {});\n",
              "          if (!dataTable) return;\n",
              "\n",
              "          const docLinkHtml = 'Like what you see? Visit the ' +\n",
              "            '<a target=\"_blank\" href=https://colab.research.google.com/notebooks/data_table.ipynb>data table notebook</a>'\n",
              "            + ' to learn more about interactive tables.';\n",
              "          element.innerHTML = '';\n",
              "          dataTable['output_type'] = 'display_data';\n",
              "          await google.colab.output.renderOutput(dataTable, element);\n",
              "          const docLink = document.createElement('div');\n",
              "          docLink.innerHTML = docLinkHtml;\n",
              "          element.appendChild(docLink);\n",
              "        }\n",
              "      </script>\n",
              "    </div>\n",
              "  </div>\n",
              "  "
            ]
          },
          "metadata": {},
          "execution_count": 8
        }
      ]
    },
    {
      "cell_type": "code",
      "source": [
        "def checknull(data,l):\n",
        "  for i in data.columns:\n",
        "     num=len(data[data[i] == '?'])\n",
        "     print(\"Null value percentage in col. no.\",i,\":\",(num/798)*100,'\\n')\n",
        "     l.append((num/798)*100)"
      ],
      "metadata": {
        "id": "Q1iv4nwQplKm"
      },
      "execution_count": null,
      "outputs": []
    },
    {
      "cell_type": "code",
      "source": [
        "null1=[]\n",
        "checknull(df1,null1)"
      ],
      "metadata": {
        "colab": {
          "base_uri": "https://localhost:8080/"
        },
        "id": "vbKIdqCmrxw9",
        "outputId": "ba6f7e72-ad7d-4d42-f197-ace7ae841403"
      },
      "execution_count": null,
      "outputs": [
        {
          "output_type": "stream",
          "name": "stdout",
          "text": [
            "Null value percentage in col. no. 0 : 85.96491228070175 \n",
            "\n",
            "Null value percentage in col. no. 1 : 0.0 \n",
            "\n",
            "Null value percentage in col. no. 2 : 8.771929824561402 \n",
            "\n",
            "Null value percentage in col. no. 3 : 0.0 \n",
            "\n",
            "Null value percentage in col. no. 4 : 0.0 \n",
            "\n",
            "Null value percentage in col. no. 5 : 84.46115288220551 \n",
            "\n",
            "Null value percentage in col. no. 6 : 33.959899749373434 \n",
            "\n",
            "Null value percentage in col. no. 7 : 35.338345864661655 \n",
            "\n",
            "Null value percentage in col. no. 8 : 0.0 \n",
            "\n",
            "Null value percentage in col. no. 9 : 87.96992481203007 \n",
            "\n",
            "Null value percentage in col. no. 10 : 98.87218045112782 \n",
            "\n",
            "Null value percentage in col. no. 11 : 27.192982456140353 \n",
            "\n",
            "Null value percentage in col. no. 12 : 98.24561403508771 \n",
            "\n",
            "Null value percentage in col. no. 13 : 99.74937343358395 \n",
            "\n",
            "Null value percentage in col. no. 14 : 85.08771929824562 \n",
            "\n",
            "Null value percentage in col. no. 15 : 92.10526315789474 \n",
            "\n",
            "Null value percentage in col. no. 16 : 76.19047619047619 \n",
            "\n",
            "Null value percentage in col. no. 17 : 82.83208020050125 \n",
            "\n",
            "Null value percentage in col. no. 18 : 99.87468671679198 \n",
            "\n",
            "Null value percentage in col. no. 19 : 96.99248120300751 \n",
            "\n",
            "Null value percentage in col. no. 20 : 98.99749373433583 \n",
            "\n",
            "Null value percentage in col. no. 21 : 91.35338345864662 \n",
            "\n",
            "Null value percentage in col. no. 22 : 99.87468671679198 \n",
            "\n",
            "Null value percentage in col. no. 23 : 99.62406015037594 \n",
            "\n",
            "Null value percentage in col. no. 24 : 96.61654135338345 \n",
            "\n",
            "Null value percentage in col. no. 25 : 99.87468671679198 \n",
            "\n",
            "Null value percentage in col. no. 26 : 99.24812030075188 \n",
            "\n",
            "Null value percentage in col. no. 27 : 94.23558897243107 \n",
            "\n",
            "Null value percentage in col. no. 28 : 99.87468671679198 \n",
            "\n",
            "Null value percentage in col. no. 29 : 99.87468671679198 \n",
            "\n",
            "Null value percentage in col. no. 30 : 99.87468671679198 \n",
            "\n",
            "Null value percentage in col. no. 31 : 0.0 \n",
            "\n",
            "Null value percentage in col. no. 32 : 0.0 \n",
            "\n",
            "Null value percentage in col. no. 33 : 0.0 \n",
            "\n",
            "Null value percentage in col. no. 34 : 0.0 \n",
            "\n",
            "Null value percentage in col. no. 35 : 92.60651629072682 \n",
            "\n",
            "Null value percentage in col. no. 36 : 0.0 \n",
            "\n",
            "Null value percentage in col. no. 37 : 98.74686716791979 \n",
            "\n",
            "Null value percentage in col. no. 38 : 0.0 \n",
            "\n"
          ]
        }
      ]
    },
    {
      "cell_type": "code",
      "source": [
        "  for i in range(len(null1)):\n",
        "    if(null1[i]>=25):\n",
        "      df1=df1.drop([(i)],axis=1)"
      ],
      "metadata": {
        "id": "wsBarHwNtOyC"
      },
      "execution_count": null,
      "outputs": []
    },
    {
      "cell_type": "code",
      "source": [
        "df1"
      ],
      "metadata": {
        "colab": {
          "base_uri": "https://localhost:8080/",
          "height": 423
        },
        "id": "8kznE_cdtfw6",
        "outputId": "f2425aa7-bb66-4c7b-bac8-5a4627312d1e"
      },
      "execution_count": null,
      "outputs": [
        {
          "output_type": "execute_result",
          "data": {
            "text/plain": [
              "    1  2  3   4  8      31     32      33    34 36 38\n",
              "0    C  R  0   0  0   COIL    3.2   610.0     0  0  3\n",
              "1    C  R  0   0  0  SHEET    0.7  1300.0   762  0  3\n",
              "2    C  A  0  60  0   COIL  2.801   385.1     0  0  3\n",
              "3    C  A  0  60  0  SHEET  0.801   255.0   269  0  3\n",
              "4    C  A  0  45  0   COIL    1.6   610.0     0  0  3\n",
              "..  .. .. ..  .. ..    ...    ...     ...   ... .. ..\n",
              "792  C  A  0  50  0   COIL  1.001    50.0     0  0  3\n",
              "793  C  ?  0   0  0  SHEET  0.699  1300.0  4880  0  3\n",
              "794  C  A  0   0  0   COIL    0.4   609.9     0  0  3\n",
              "795  C  A  0   0  0  SHEET    3.2   610.0  4880  0  3\n",
              "796  C  R  0   0  0  SHEET  1.599  1500.0  4170  0  2\n",
              "\n",
              "[797 rows x 11 columns]"
            ],
            "text/html": [
              "\n",
              "  <div id=\"df-4281e1b7-c167-4fd8-940f-8b8e0f56f133\">\n",
              "    <div class=\"colab-df-container\">\n",
              "      <div>\n",
              "<style scoped>\n",
              "    .dataframe tbody tr th:only-of-type {\n",
              "        vertical-align: middle;\n",
              "    }\n",
              "\n",
              "    .dataframe tbody tr th {\n",
              "        vertical-align: top;\n",
              "    }\n",
              "\n",
              "    .dataframe thead th {\n",
              "        text-align: right;\n",
              "    }\n",
              "</style>\n",
              "<table border=\"1\" class=\"dataframe\">\n",
              "  <thead>\n",
              "    <tr style=\"text-align: right;\">\n",
              "      <th></th>\n",
              "      <th>1</th>\n",
              "      <th>2</th>\n",
              "      <th>3</th>\n",
              "      <th>4</th>\n",
              "      <th>8</th>\n",
              "      <th>31</th>\n",
              "      <th>32</th>\n",
              "      <th>33</th>\n",
              "      <th>34</th>\n",
              "      <th>36</th>\n",
              "      <th>38</th>\n",
              "    </tr>\n",
              "  </thead>\n",
              "  <tbody>\n",
              "    <tr>\n",
              "      <th>0</th>\n",
              "      <td>C</td>\n",
              "      <td>R</td>\n",
              "      <td>0</td>\n",
              "      <td>0</td>\n",
              "      <td>0</td>\n",
              "      <td>COIL</td>\n",
              "      <td>3.2</td>\n",
              "      <td>610.0</td>\n",
              "      <td>0</td>\n",
              "      <td>0</td>\n",
              "      <td>3</td>\n",
              "    </tr>\n",
              "    <tr>\n",
              "      <th>1</th>\n",
              "      <td>C</td>\n",
              "      <td>R</td>\n",
              "      <td>0</td>\n",
              "      <td>0</td>\n",
              "      <td>0</td>\n",
              "      <td>SHEET</td>\n",
              "      <td>0.7</td>\n",
              "      <td>1300.0</td>\n",
              "      <td>762</td>\n",
              "      <td>0</td>\n",
              "      <td>3</td>\n",
              "    </tr>\n",
              "    <tr>\n",
              "      <th>2</th>\n",
              "      <td>C</td>\n",
              "      <td>A</td>\n",
              "      <td>0</td>\n",
              "      <td>60</td>\n",
              "      <td>0</td>\n",
              "      <td>COIL</td>\n",
              "      <td>2.801</td>\n",
              "      <td>385.1</td>\n",
              "      <td>0</td>\n",
              "      <td>0</td>\n",
              "      <td>3</td>\n",
              "    </tr>\n",
              "    <tr>\n",
              "      <th>3</th>\n",
              "      <td>C</td>\n",
              "      <td>A</td>\n",
              "      <td>0</td>\n",
              "      <td>60</td>\n",
              "      <td>0</td>\n",
              "      <td>SHEET</td>\n",
              "      <td>0.801</td>\n",
              "      <td>255.0</td>\n",
              "      <td>269</td>\n",
              "      <td>0</td>\n",
              "      <td>3</td>\n",
              "    </tr>\n",
              "    <tr>\n",
              "      <th>4</th>\n",
              "      <td>C</td>\n",
              "      <td>A</td>\n",
              "      <td>0</td>\n",
              "      <td>45</td>\n",
              "      <td>0</td>\n",
              "      <td>COIL</td>\n",
              "      <td>1.6</td>\n",
              "      <td>610.0</td>\n",
              "      <td>0</td>\n",
              "      <td>0</td>\n",
              "      <td>3</td>\n",
              "    </tr>\n",
              "    <tr>\n",
              "      <th>...</th>\n",
              "      <td>...</td>\n",
              "      <td>...</td>\n",
              "      <td>...</td>\n",
              "      <td>...</td>\n",
              "      <td>...</td>\n",
              "      <td>...</td>\n",
              "      <td>...</td>\n",
              "      <td>...</td>\n",
              "      <td>...</td>\n",
              "      <td>...</td>\n",
              "      <td>...</td>\n",
              "    </tr>\n",
              "    <tr>\n",
              "      <th>792</th>\n",
              "      <td>C</td>\n",
              "      <td>A</td>\n",
              "      <td>0</td>\n",
              "      <td>50</td>\n",
              "      <td>0</td>\n",
              "      <td>COIL</td>\n",
              "      <td>1.001</td>\n",
              "      <td>50.0</td>\n",
              "      <td>0</td>\n",
              "      <td>0</td>\n",
              "      <td>3</td>\n",
              "    </tr>\n",
              "    <tr>\n",
              "      <th>793</th>\n",
              "      <td>C</td>\n",
              "      <td>?</td>\n",
              "      <td>0</td>\n",
              "      <td>0</td>\n",
              "      <td>0</td>\n",
              "      <td>SHEET</td>\n",
              "      <td>0.699</td>\n",
              "      <td>1300.0</td>\n",
              "      <td>4880</td>\n",
              "      <td>0</td>\n",
              "      <td>3</td>\n",
              "    </tr>\n",
              "    <tr>\n",
              "      <th>794</th>\n",
              "      <td>C</td>\n",
              "      <td>A</td>\n",
              "      <td>0</td>\n",
              "      <td>0</td>\n",
              "      <td>0</td>\n",
              "      <td>COIL</td>\n",
              "      <td>0.4</td>\n",
              "      <td>609.9</td>\n",
              "      <td>0</td>\n",
              "      <td>0</td>\n",
              "      <td>3</td>\n",
              "    </tr>\n",
              "    <tr>\n",
              "      <th>795</th>\n",
              "      <td>C</td>\n",
              "      <td>A</td>\n",
              "      <td>0</td>\n",
              "      <td>0</td>\n",
              "      <td>0</td>\n",
              "      <td>SHEET</td>\n",
              "      <td>3.2</td>\n",
              "      <td>610.0</td>\n",
              "      <td>4880</td>\n",
              "      <td>0</td>\n",
              "      <td>3</td>\n",
              "    </tr>\n",
              "    <tr>\n",
              "      <th>796</th>\n",
              "      <td>C</td>\n",
              "      <td>R</td>\n",
              "      <td>0</td>\n",
              "      <td>0</td>\n",
              "      <td>0</td>\n",
              "      <td>SHEET</td>\n",
              "      <td>1.599</td>\n",
              "      <td>1500.0</td>\n",
              "      <td>4170</td>\n",
              "      <td>0</td>\n",
              "      <td>2</td>\n",
              "    </tr>\n",
              "  </tbody>\n",
              "</table>\n",
              "<p>797 rows × 11 columns</p>\n",
              "</div>\n",
              "      <button class=\"colab-df-convert\" onclick=\"convertToInteractive('df-4281e1b7-c167-4fd8-940f-8b8e0f56f133')\"\n",
              "              title=\"Convert this dataframe to an interactive table.\"\n",
              "              style=\"display:none;\">\n",
              "        \n",
              "  <svg xmlns=\"http://www.w3.org/2000/svg\" height=\"24px\"viewBox=\"0 0 24 24\"\n",
              "       width=\"24px\">\n",
              "    <path d=\"M0 0h24v24H0V0z\" fill=\"none\"/>\n",
              "    <path d=\"M18.56 5.44l.94 2.06.94-2.06 2.06-.94-2.06-.94-.94-2.06-.94 2.06-2.06.94zm-11 1L8.5 8.5l.94-2.06 2.06-.94-2.06-.94L8.5 2.5l-.94 2.06-2.06.94zm10 10l.94 2.06.94-2.06 2.06-.94-2.06-.94-.94-2.06-.94 2.06-2.06.94z\"/><path d=\"M17.41 7.96l-1.37-1.37c-.4-.4-.92-.59-1.43-.59-.52 0-1.04.2-1.43.59L10.3 9.45l-7.72 7.72c-.78.78-.78 2.05 0 2.83L4 21.41c.39.39.9.59 1.41.59.51 0 1.02-.2 1.41-.59l7.78-7.78 2.81-2.81c.8-.78.8-2.07 0-2.86zM5.41 20L4 18.59l7.72-7.72 1.47 1.35L5.41 20z\"/>\n",
              "  </svg>\n",
              "      </button>\n",
              "      \n",
              "  <style>\n",
              "    .colab-df-container {\n",
              "      display:flex;\n",
              "      flex-wrap:wrap;\n",
              "      gap: 12px;\n",
              "    }\n",
              "\n",
              "    .colab-df-convert {\n",
              "      background-color: #E8F0FE;\n",
              "      border: none;\n",
              "      border-radius: 50%;\n",
              "      cursor: pointer;\n",
              "      display: none;\n",
              "      fill: #1967D2;\n",
              "      height: 32px;\n",
              "      padding: 0 0 0 0;\n",
              "      width: 32px;\n",
              "    }\n",
              "\n",
              "    .colab-df-convert:hover {\n",
              "      background-color: #E2EBFA;\n",
              "      box-shadow: 0px 1px 2px rgba(60, 64, 67, 0.3), 0px 1px 3px 1px rgba(60, 64, 67, 0.15);\n",
              "      fill: #174EA6;\n",
              "    }\n",
              "\n",
              "    [theme=dark] .colab-df-convert {\n",
              "      background-color: #3B4455;\n",
              "      fill: #D2E3FC;\n",
              "    }\n",
              "\n",
              "    [theme=dark] .colab-df-convert:hover {\n",
              "      background-color: #434B5C;\n",
              "      box-shadow: 0px 1px 3px 1px rgba(0, 0, 0, 0.15);\n",
              "      filter: drop-shadow(0px 1px 2px rgba(0, 0, 0, 0.3));\n",
              "      fill: #FFFFFF;\n",
              "    }\n",
              "  </style>\n",
              "\n",
              "      <script>\n",
              "        const buttonEl =\n",
              "          document.querySelector('#df-4281e1b7-c167-4fd8-940f-8b8e0f56f133 button.colab-df-convert');\n",
              "        buttonEl.style.display =\n",
              "          google.colab.kernel.accessAllowed ? 'block' : 'none';\n",
              "\n",
              "        async function convertToInteractive(key) {\n",
              "          const element = document.querySelector('#df-4281e1b7-c167-4fd8-940f-8b8e0f56f133');\n",
              "          const dataTable =\n",
              "            await google.colab.kernel.invokeFunction('convertToInteractive',\n",
              "                                                     [key], {});\n",
              "          if (!dataTable) return;\n",
              "\n",
              "          const docLinkHtml = 'Like what you see? Visit the ' +\n",
              "            '<a target=\"_blank\" href=https://colab.research.google.com/notebooks/data_table.ipynb>data table notebook</a>'\n",
              "            + ' to learn more about interactive tables.';\n",
              "          element.innerHTML = '';\n",
              "          dataTable['output_type'] = 'display_data';\n",
              "          await google.colab.output.renderOutput(dataTable, element);\n",
              "          const docLink = document.createElement('div');\n",
              "          docLink.innerHTML = docLinkHtml;\n",
              "          element.appendChild(docLink);\n",
              "        }\n",
              "      </script>\n",
              "    </div>\n",
              "  </div>\n",
              "  "
            ]
          },
          "metadata": {},
          "execution_count": 12
        }
      ]
    },
    {
      "cell_type": "code",
      "source": [
        "for i in df1.columns:\n",
        "  df1[i]=df1[i].replace('?',np.nan)"
      ],
      "metadata": {
        "id": "b90z39YywkVR"
      },
      "execution_count": null,
      "outputs": []
    },
    {
      "cell_type": "code",
      "source": [
        "df1"
      ],
      "metadata": {
        "colab": {
          "base_uri": "https://localhost:8080/",
          "height": 423
        },
        "id": "osLrG1u9xzB4",
        "outputId": "8790b141-34dc-41fe-a342-e1833b6a5580"
      },
      "execution_count": null,
      "outputs": [
        {
          "output_type": "execute_result",
          "data": {
            "text/plain": [
              "    1    2  3   4  8      31     32      33    34 36 38\n",
              "0    C    R  0   0  0   COIL    3.2   610.0     0  0  3\n",
              "1    C    R  0   0  0  SHEET    0.7  1300.0   762  0  3\n",
              "2    C    A  0  60  0   COIL  2.801   385.1     0  0  3\n",
              "3    C    A  0  60  0  SHEET  0.801   255.0   269  0  3\n",
              "4    C    A  0  45  0   COIL    1.6   610.0     0  0  3\n",
              "..  ..  ... ..  .. ..    ...    ...     ...   ... .. ..\n",
              "792  C    A  0  50  0   COIL  1.001    50.0     0  0  3\n",
              "793  C  NaN  0   0  0  SHEET  0.699  1300.0  4880  0  3\n",
              "794  C    A  0   0  0   COIL    0.4   609.9     0  0  3\n",
              "795  C    A  0   0  0  SHEET    3.2   610.0  4880  0  3\n",
              "796  C    R  0   0  0  SHEET  1.599  1500.0  4170  0  2\n",
              "\n",
              "[797 rows x 11 columns]"
            ],
            "text/html": [
              "\n",
              "  <div id=\"df-829ed7fe-0e0e-4714-a013-fa4261c76496\">\n",
              "    <div class=\"colab-df-container\">\n",
              "      <div>\n",
              "<style scoped>\n",
              "    .dataframe tbody tr th:only-of-type {\n",
              "        vertical-align: middle;\n",
              "    }\n",
              "\n",
              "    .dataframe tbody tr th {\n",
              "        vertical-align: top;\n",
              "    }\n",
              "\n",
              "    .dataframe thead th {\n",
              "        text-align: right;\n",
              "    }\n",
              "</style>\n",
              "<table border=\"1\" class=\"dataframe\">\n",
              "  <thead>\n",
              "    <tr style=\"text-align: right;\">\n",
              "      <th></th>\n",
              "      <th>1</th>\n",
              "      <th>2</th>\n",
              "      <th>3</th>\n",
              "      <th>4</th>\n",
              "      <th>8</th>\n",
              "      <th>31</th>\n",
              "      <th>32</th>\n",
              "      <th>33</th>\n",
              "      <th>34</th>\n",
              "      <th>36</th>\n",
              "      <th>38</th>\n",
              "    </tr>\n",
              "  </thead>\n",
              "  <tbody>\n",
              "    <tr>\n",
              "      <th>0</th>\n",
              "      <td>C</td>\n",
              "      <td>R</td>\n",
              "      <td>0</td>\n",
              "      <td>0</td>\n",
              "      <td>0</td>\n",
              "      <td>COIL</td>\n",
              "      <td>3.2</td>\n",
              "      <td>610.0</td>\n",
              "      <td>0</td>\n",
              "      <td>0</td>\n",
              "      <td>3</td>\n",
              "    </tr>\n",
              "    <tr>\n",
              "      <th>1</th>\n",
              "      <td>C</td>\n",
              "      <td>R</td>\n",
              "      <td>0</td>\n",
              "      <td>0</td>\n",
              "      <td>0</td>\n",
              "      <td>SHEET</td>\n",
              "      <td>0.7</td>\n",
              "      <td>1300.0</td>\n",
              "      <td>762</td>\n",
              "      <td>0</td>\n",
              "      <td>3</td>\n",
              "    </tr>\n",
              "    <tr>\n",
              "      <th>2</th>\n",
              "      <td>C</td>\n",
              "      <td>A</td>\n",
              "      <td>0</td>\n",
              "      <td>60</td>\n",
              "      <td>0</td>\n",
              "      <td>COIL</td>\n",
              "      <td>2.801</td>\n",
              "      <td>385.1</td>\n",
              "      <td>0</td>\n",
              "      <td>0</td>\n",
              "      <td>3</td>\n",
              "    </tr>\n",
              "    <tr>\n",
              "      <th>3</th>\n",
              "      <td>C</td>\n",
              "      <td>A</td>\n",
              "      <td>0</td>\n",
              "      <td>60</td>\n",
              "      <td>0</td>\n",
              "      <td>SHEET</td>\n",
              "      <td>0.801</td>\n",
              "      <td>255.0</td>\n",
              "      <td>269</td>\n",
              "      <td>0</td>\n",
              "      <td>3</td>\n",
              "    </tr>\n",
              "    <tr>\n",
              "      <th>4</th>\n",
              "      <td>C</td>\n",
              "      <td>A</td>\n",
              "      <td>0</td>\n",
              "      <td>45</td>\n",
              "      <td>0</td>\n",
              "      <td>COIL</td>\n",
              "      <td>1.6</td>\n",
              "      <td>610.0</td>\n",
              "      <td>0</td>\n",
              "      <td>0</td>\n",
              "      <td>3</td>\n",
              "    </tr>\n",
              "    <tr>\n",
              "      <th>...</th>\n",
              "      <td>...</td>\n",
              "      <td>...</td>\n",
              "      <td>...</td>\n",
              "      <td>...</td>\n",
              "      <td>...</td>\n",
              "      <td>...</td>\n",
              "      <td>...</td>\n",
              "      <td>...</td>\n",
              "      <td>...</td>\n",
              "      <td>...</td>\n",
              "      <td>...</td>\n",
              "    </tr>\n",
              "    <tr>\n",
              "      <th>792</th>\n",
              "      <td>C</td>\n",
              "      <td>A</td>\n",
              "      <td>0</td>\n",
              "      <td>50</td>\n",
              "      <td>0</td>\n",
              "      <td>COIL</td>\n",
              "      <td>1.001</td>\n",
              "      <td>50.0</td>\n",
              "      <td>0</td>\n",
              "      <td>0</td>\n",
              "      <td>3</td>\n",
              "    </tr>\n",
              "    <tr>\n",
              "      <th>793</th>\n",
              "      <td>C</td>\n",
              "      <td>NaN</td>\n",
              "      <td>0</td>\n",
              "      <td>0</td>\n",
              "      <td>0</td>\n",
              "      <td>SHEET</td>\n",
              "      <td>0.699</td>\n",
              "      <td>1300.0</td>\n",
              "      <td>4880</td>\n",
              "      <td>0</td>\n",
              "      <td>3</td>\n",
              "    </tr>\n",
              "    <tr>\n",
              "      <th>794</th>\n",
              "      <td>C</td>\n",
              "      <td>A</td>\n",
              "      <td>0</td>\n",
              "      <td>0</td>\n",
              "      <td>0</td>\n",
              "      <td>COIL</td>\n",
              "      <td>0.4</td>\n",
              "      <td>609.9</td>\n",
              "      <td>0</td>\n",
              "      <td>0</td>\n",
              "      <td>3</td>\n",
              "    </tr>\n",
              "    <tr>\n",
              "      <th>795</th>\n",
              "      <td>C</td>\n",
              "      <td>A</td>\n",
              "      <td>0</td>\n",
              "      <td>0</td>\n",
              "      <td>0</td>\n",
              "      <td>SHEET</td>\n",
              "      <td>3.2</td>\n",
              "      <td>610.0</td>\n",
              "      <td>4880</td>\n",
              "      <td>0</td>\n",
              "      <td>3</td>\n",
              "    </tr>\n",
              "    <tr>\n",
              "      <th>796</th>\n",
              "      <td>C</td>\n",
              "      <td>R</td>\n",
              "      <td>0</td>\n",
              "      <td>0</td>\n",
              "      <td>0</td>\n",
              "      <td>SHEET</td>\n",
              "      <td>1.599</td>\n",
              "      <td>1500.0</td>\n",
              "      <td>4170</td>\n",
              "      <td>0</td>\n",
              "      <td>2</td>\n",
              "    </tr>\n",
              "  </tbody>\n",
              "</table>\n",
              "<p>797 rows × 11 columns</p>\n",
              "</div>\n",
              "      <button class=\"colab-df-convert\" onclick=\"convertToInteractive('df-829ed7fe-0e0e-4714-a013-fa4261c76496')\"\n",
              "              title=\"Convert this dataframe to an interactive table.\"\n",
              "              style=\"display:none;\">\n",
              "        \n",
              "  <svg xmlns=\"http://www.w3.org/2000/svg\" height=\"24px\"viewBox=\"0 0 24 24\"\n",
              "       width=\"24px\">\n",
              "    <path d=\"M0 0h24v24H0V0z\" fill=\"none\"/>\n",
              "    <path d=\"M18.56 5.44l.94 2.06.94-2.06 2.06-.94-2.06-.94-.94-2.06-.94 2.06-2.06.94zm-11 1L8.5 8.5l.94-2.06 2.06-.94-2.06-.94L8.5 2.5l-.94 2.06-2.06.94zm10 10l.94 2.06.94-2.06 2.06-.94-2.06-.94-.94-2.06-.94 2.06-2.06.94z\"/><path d=\"M17.41 7.96l-1.37-1.37c-.4-.4-.92-.59-1.43-.59-.52 0-1.04.2-1.43.59L10.3 9.45l-7.72 7.72c-.78.78-.78 2.05 0 2.83L4 21.41c.39.39.9.59 1.41.59.51 0 1.02-.2 1.41-.59l7.78-7.78 2.81-2.81c.8-.78.8-2.07 0-2.86zM5.41 20L4 18.59l7.72-7.72 1.47 1.35L5.41 20z\"/>\n",
              "  </svg>\n",
              "      </button>\n",
              "      \n",
              "  <style>\n",
              "    .colab-df-container {\n",
              "      display:flex;\n",
              "      flex-wrap:wrap;\n",
              "      gap: 12px;\n",
              "    }\n",
              "\n",
              "    .colab-df-convert {\n",
              "      background-color: #E8F0FE;\n",
              "      border: none;\n",
              "      border-radius: 50%;\n",
              "      cursor: pointer;\n",
              "      display: none;\n",
              "      fill: #1967D2;\n",
              "      height: 32px;\n",
              "      padding: 0 0 0 0;\n",
              "      width: 32px;\n",
              "    }\n",
              "\n",
              "    .colab-df-convert:hover {\n",
              "      background-color: #E2EBFA;\n",
              "      box-shadow: 0px 1px 2px rgba(60, 64, 67, 0.3), 0px 1px 3px 1px rgba(60, 64, 67, 0.15);\n",
              "      fill: #174EA6;\n",
              "    }\n",
              "\n",
              "    [theme=dark] .colab-df-convert {\n",
              "      background-color: #3B4455;\n",
              "      fill: #D2E3FC;\n",
              "    }\n",
              "\n",
              "    [theme=dark] .colab-df-convert:hover {\n",
              "      background-color: #434B5C;\n",
              "      box-shadow: 0px 1px 3px 1px rgba(0, 0, 0, 0.15);\n",
              "      filter: drop-shadow(0px 1px 2px rgba(0, 0, 0, 0.3));\n",
              "      fill: #FFFFFF;\n",
              "    }\n",
              "  </style>\n",
              "\n",
              "      <script>\n",
              "        const buttonEl =\n",
              "          document.querySelector('#df-829ed7fe-0e0e-4714-a013-fa4261c76496 button.colab-df-convert');\n",
              "        buttonEl.style.display =\n",
              "          google.colab.kernel.accessAllowed ? 'block' : 'none';\n",
              "\n",
              "        async function convertToInteractive(key) {\n",
              "          const element = document.querySelector('#df-829ed7fe-0e0e-4714-a013-fa4261c76496');\n",
              "          const dataTable =\n",
              "            await google.colab.kernel.invokeFunction('convertToInteractive',\n",
              "                                                     [key], {});\n",
              "          if (!dataTable) return;\n",
              "\n",
              "          const docLinkHtml = 'Like what you see? Visit the ' +\n",
              "            '<a target=\"_blank\" href=https://colab.research.google.com/notebooks/data_table.ipynb>data table notebook</a>'\n",
              "            + ' to learn more about interactive tables.';\n",
              "          element.innerHTML = '';\n",
              "          dataTable['output_type'] = 'display_data';\n",
              "          await google.colab.output.renderOutput(dataTable, element);\n",
              "          const docLink = document.createElement('div');\n",
              "          docLink.innerHTML = docLinkHtml;\n",
              "          element.appendChild(docLink);\n",
              "        }\n",
              "      </script>\n",
              "    </div>\n",
              "  </div>\n",
              "  "
            ]
          },
          "metadata": {},
          "execution_count": 14
        }
      ]
    },
    {
      "cell_type": "code",
      "source": [
        "df1=df1.dropna()"
      ],
      "metadata": {
        "id": "t9uQAmBxvq5m"
      },
      "execution_count": null,
      "outputs": []
    },
    {
      "cell_type": "code",
      "source": [
        "dfy=df1[38]\n",
        "df1=df1.drop([38,1],axis=1)"
      ],
      "metadata": {
        "id": "P_mTMLd33taQ"
      },
      "execution_count": null,
      "outputs": []
    },
    {
      "cell_type": "code",
      "source": [
        "dfy=dfy.to_numpy()"
      ],
      "metadata": {
        "id": "Veuqjlzd4pm5"
      },
      "execution_count": null,
      "outputs": []
    },
    {
      "cell_type": "code",
      "source": [
        "le = preprocessing.OrdinalEncoder()\n",
        "le.fit(df1)\n",
        "df=le.transform(df1)"
      ],
      "metadata": {
        "id": "aWOIth2YzJRG"
      },
      "execution_count": null,
      "outputs": []
    },
    {
      "cell_type": "code",
      "source": [
        "le1 = preprocessing.LabelEncoder()\n",
        "le1.fit(dfy)\n",
        "dfy=le1.transform(dfy)"
      ],
      "metadata": {
        "id": "uiPIrqba422L"
      },
      "execution_count": null,
      "outputs": []
    },
    {
      "cell_type": "code",
      "source": [
        "scaler = StandardScaler()\n",
        "dfs=scaler.fit(df).transform(df)"
      ],
      "metadata": {
        "id": "MvUnWUFIvp-p"
      },
      "execution_count": null,
      "outputs": []
    },
    {
      "cell_type": "code",
      "source": [
        "crossval_on_models(df,dfy,\"Unstandardized Data\")"
      ],
      "metadata": {
        "colab": {
          "base_uri": "https://localhost:8080/",
          "height": 330
        },
        "id": "VXpErqjEr2_H",
        "outputId": "e5448dfa-d66b-4953-bf6d-1990734136f1"
      },
      "execution_count": null,
      "outputs": [
        {
          "output_type": "stream",
          "name": "stdout",
          "text": [
            "5 fold cross validation on DTC: [0.90410959 0.90410959 0.91724138 0.88965517 0.90344828]\n",
            "5 fold cross validation on SVC: [0.76712329 0.76712329 0.77241379 0.77241379 0.76551724]\n"
          ]
        },
        {
          "output_type": "display_data",
          "data": {
            "text/plain": [
              "<Figure size 432x288 with 1 Axes>"
            ],
            "image/png": "[encoded data removed]"
          },
          "metadata": {
            "needs_background": "light"
          }
        }
      ]
    },
    {
      "cell_type": "code",
      "source": [
        "crossval_on_models(dfs,dfy,'Standardized Data')"
      ],
      "metadata": {
        "colab": {
          "base_uri": "https://localhost:8080/",
          "height": 330
        },
        "id": "yyAQx8pvsPy9",
        "outputId": "dc030a3b-3773-4b8f-da48-129b48433363"
      },
      "execution_count": null,
      "outputs": [
        {
          "output_type": "stream",
          "name": "stdout",
          "text": [
            "5 fold cross validation on DTC: [0.90410959 0.91780822 0.92413793 0.89655172 0.90344828]\n",
            "5 fold cross validation on SVC: [0.79452055 0.83561644 0.82758621 0.82068966 0.82758621]\n"
          ]
        },
        {
          "output_type": "display_data",
          "data": {
            "text/plain": [
              "<Figure size 432x288 with 1 Axes>"
            ],
            "image/png": "[encoded data removed]"
          },
          "metadata": {
            "needs_background": "light"
          }
        }
      ]
    },
    {
      "cell_type": "code",
      "source": [
        "class PCA:\n",
        "  def __init__(self,data,nPC):\n",
        "    self.data=data\n",
        "    self.n=len(data[0])\n",
        "    self.eigenvec=[]\n",
        "    self.mat=[]\n",
        "    self.eigvals=[]\n",
        "    self.nPC=nPC\n",
        "    self.pair=[]\n",
        "  def centralize(self):\n",
        "    c_data=[]\n",
        "    for i in range(self.n):\n",
        "      x=self.data[:,i]\n",
        "      u=np.mean(x)\n",
        "      s=np.std(x)\n",
        "      l=[]\n",
        "      for j in x:\n",
        "        l.append((j-u))\n",
        "      c_data.append(l)\n",
        "    self.data=np.array(c_data).T\n",
        "    # print(\"centralized dataset:\",self.data)\n",
        "\n",
        "  def covmat(self):\n",
        "    covmat_=[]\n",
        "    for i in range(self.n):\n",
        "      l=[]\n",
        "      s=0\n",
        "      for j in range(self.n):\n",
        "        x=self.data[:,i]\n",
        "        y=self.data[:,j]\n",
        "        xm=np.mean(x)\n",
        "        ym=np.mean(y)\n",
        "\n",
        "        for k in range(len(x)):\n",
        "          s+=(x[k]-xm)*(y[k]-ym)\n",
        "        s=s/len(x)\n",
        "        l.append(s)\n",
        "      covmat_.append(l)\n",
        "    self.mat=(np.array(covmat_))\n",
        "    # print(\"covariance matrix:\",self.mat)\n",
        "\n",
        "  def eigenvals(self):\n",
        "    for i in range(self.n):\n",
        "      v=self.eigenvec[:,i]\n",
        "      v=v.reshape(self.n,1)\n",
        "      x=self.mat@v\n",
        "\n",
        "      # print(x)\n",
        "      self.eigvals.append(np.mean(x/v))\n",
        "    # print(\"eigen values:\",self.eigvals)\n",
        "\n",
        "  def eigenvecs(self):\n",
        "    u,v=np.linalg.eig(self.mat)\n",
        "    self.eigenvec=v\n",
        "    # print(\"eigen vectors:\",v)\n",
        "\n",
        "\n",
        "  def reduceddim(self):\n",
        "    self.centralize()\n",
        "    self.covmat()\n",
        "    self.eigenvecs()\n",
        "    self.eigenvals()\n",
        "\n",
        "    for i in range(self.n):\n",
        "      if(self.eigvals[i]<0):\n",
        "        self.eigvals[i]=-self.eigvals[i]\n",
        "        self.eigenvec[:,i]=-self.eigenvec[:,i]\n",
        "\n",
        "    var_till_ind=0\n",
        "    totvar=sum(self.eigvals)\n",
        "    vals=np.sort(self.eigvals)\n",
        "    pair_=[]\n",
        "\n",
        "    for i in reversed(vals):\n",
        "      pair_.append([i,self.eigenvec[:,np.where(self.eigvals==i)[0]]])\n",
        "\n",
        "    w=[]\n",
        "    pair_=np.array(pair_)\n",
        "    self.pair=pair_\n",
        "\n",
        "    for count,i in enumerate(pair_[:,0]):\n",
        "      if(count == self.nPC):\n",
        "        break\n",
        "      var_till_ind+=i\n",
        "      w.append(pair_[count][1])\n",
        "\n",
        "    w=np.array(w)\n",
        "    w=w.reshape(self.n,self.nPC)\n",
        "    return(self.data@w,var_till_ind)\n",
        "\n",
        "  def eigens(self):\n",
        "    return(np.sort(self.eigvals))"
      ],
      "metadata": {
        "id": "vYH_gvUw-QVH"
      },
      "execution_count": null,
      "outputs": []
    },
    {
      "cell_type": "code",
      "source": [
        "vars=[]\n",
        "for i in range(2,9):\n",
        "  pca=PCA(df,i)\n",
        "  red_df,var1=pca.reduceddim()\n",
        "  vars.append(var1)\n",
        "plt.bar(height=vars,x=[i for i in range(2,9)])\n",
        "plt.ylabel(\"Variance\")\n",
        "plt.xlabel(\"Number of PC\")\n",
        "plt.title(\"Unstandardized Data\")"
      ],
      "metadata": {
        "colab": {
          "base_uri": "https://localhost:8080/",
          "height": 312
        },
        "id": "XD5ZIQnB7Wqz",
        "outputId": "d0b5fa58-638a-4bf2-f6aa-8d757d856846"
      },
      "execution_count": null,
      "outputs": [
        {
          "output_type": "execute_result",
          "data": {
            "text/plain": [
              "Text(0.5, 1.0, 'Unstandardized Data')"
            ]
          },
          "metadata": {},
          "execution_count": 55
        },
        {
          "output_type": "display_data",
          "data": {
            "text/plain": [
              "<Figure size 432x288 with 1 Axes>"
            ],
            "image/png": "[encoded data removed]"
          },
          "metadata": {
            "needs_background": "light"
          }
        }
      ]
    },
    {
      "cell_type": "code",
      "source": [
        "pca1=PCA(df,4)\n",
        "red_df,var1=pca1.reduceddim()\n",
        "print(red_df)\n",
        "print(var1)"
      ],
      "metadata": {
        "colab": {
          "base_uri": "https://localhost:8080/"
        },
        "id": "btku8QEC3m7x",
        "outputId": "a77ad72c-fc94-4491-8ee7-ada735691d2c"
      },
      "execution_count": null,
      "outputs": [
        {
          "output_type": "stream",
          "name": "stdout",
          "text": [
            "[[  6.73204857  -0.04193577  -1.42104297  -1.84987902]\n",
            " [ -2.06359966 -16.44475245   0.2070178   -6.16662471]\n",
            " [  4.81094746  12.59600247  -1.50502123   3.17543679]\n",
            " ...\n",
            " [  5.48563971   0.6417996    0.66233669   3.65880013]\n",
            " [ -9.3789179    9.02528683  -1.65556183  -1.6268081 ]\n",
            " [ -5.04562457 -17.94788521  -0.79987234 -10.04285907]]\n",
            "526.5177235246878\n"
          ]
        }
      ]
    },
    {
      "cell_type": "code",
      "source": [
        "vec=eigenvecs(red_df,0,1)\n",
        "sns.scatterplot(x=red_df[:,0],y=red_df[:,1],hue=dfy,palette='dark',alpha=0.5)\n",
        "plt.arrow(0,0,vec[0][0]*1.5,vec[1][0]*1.5,head_width=0.2,color='black')\n",
        "plt.arrow(0,0,vec[0][1]*1.5,vec[1][1]*1.5,head_width=0.2,color='black')\n",
        "plt.xlabel(\"PC0\")\n",
        "plt.ylabel(\"PC1\")\n",
        "plt.title(\"Unstandardized\")"
      ],
      "metadata": {
        "colab": {
          "base_uri": "https://localhost:8080/",
          "height": 312
        },
        "id": "91-aDyplvpL6",
        "outputId": "d9b5e7fb-f206-46fd-d5b8-978956cd2de0"
      },
      "execution_count": null,
      "outputs": [
        {
          "output_type": "execute_result",
          "data": {
            "text/plain": [
              "Text(0.5, 1.0, 'Unstandardized')"
            ]
          },
          "metadata": {},
          "execution_count": 61
        },
        {
          "output_type": "display_data",
          "data": {
            "text/plain": [
              "<Figure size 432x288 with 1 Axes>"
            ],
            "image/png": "[encoded data removed]"
          },
          "metadata": {
            "needs_background": "light"
          }
        }
      ]
    },
    {
      "cell_type": "code",
      "source": [
        "crossval_on_models(red_df,dfy,\"Unstandardized Data Reduced using PCA\")"
      ],
      "metadata": {
        "colab": {
          "base_uri": "https://localhost:8080/",
          "height": 330
        },
        "id": "LDb3RdhhlN8j",
        "outputId": "172b0ea2-b3d9-4867-f453-1e9ce5233581"
      },
      "execution_count": null,
      "outputs": [
        {
          "output_type": "stream",
          "name": "stdout",
          "text": [
            "5 fold cross validation on DTC: [0.76027397 0.83561644 0.80689655 0.77931034 0.82068966]\n",
            "5 fold cross validation on SVC: [0.76712329 0.76712329 0.77241379 0.77241379 0.76551724]\n"
          ]
        },
        {
          "output_type": "display_data",
          "data": {
            "text/plain": [
              "<Figure size 432x288 with 1 Axes>"
            ],
            "image/png": "[encoded data removed]"
          },
          "metadata": {
            "needs_background": "light"
          }
        }
      ]
    },
    {
      "cell_type": "code",
      "source": [
        "print(\"Before PCA\")\n",
        "_=evaluation_on_models(df,dfy)"
      ],
      "metadata": {
        "colab": {
          "base_uri": "https://localhost:8080/"
        },
        "id": "KPQkKJeoqN3o",
        "outputId": "a4f96290-0c81-41c7-a684-fcb4db67479d"
      },
      "execution_count": null,
      "outputs": [
        {
          "output_type": "stream",
          "name": "stdout",
          "text": [
            "Before PCA\n",
            "for DTC \n",
            "accuracy: 0.863013698630137 \n",
            "f1 score: 0.8540047110195437 \n",
            "precision: 0.8565616413614845 \n",
            "recall: 0.863013698630137\n",
            "for SVC \n",
            "accuracy: 0.7214611872146118 \n",
            "f1 score: 0.6047260879570752 \n",
            "precision: 0.5205062446571171 \n",
            "recall: 0.7214611872146118\n"
          ]
        }
      ]
    },
    {
      "cell_type": "code",
      "source": [
        "print(\"After PCA\")\n",
        "_=evaluation_on_models(red_df,dfy)"
      ],
      "metadata": {
        "colab": {
          "base_uri": "https://localhost:8080/"
        },
        "id": "fV8KLMlusJOc",
        "outputId": "1d9a04f7-1455-4465-d913-325be0d9f57c"
      },
      "execution_count": null,
      "outputs": [
        {
          "output_type": "stream",
          "name": "stdout",
          "text": [
            "After PCA\n",
            "for DTC \n",
            "accuracy: 0.8310502283105022 \n",
            "f1 score: 0.828866439478635 \n",
            "precision: 0.8382054194310936 \n",
            "recall: 0.8310502283105022\n",
            "for SVC \n",
            "accuracy: 0.7853881278538812 \n",
            "f1 score: 0.7055702917771883 \n",
            "precision: 0.7420091324200914 \n",
            "recall: 0.7853881278538812\n"
          ]
        }
      ]
    },
    {
      "cell_type": "code",
      "source": [
        "df_eig=np.flip(pca1.eigens())"
      ],
      "metadata": {
        "id": "-6KzwIiPsPk4"
      },
      "execution_count": null,
      "outputs": []
    },
    {
      "cell_type": "code",
      "source": [
        "plt.plot(df_eig,marker='o')\n",
        "plt.xlabel(\"Feature index\")\n",
        "plt.ylabel(\"Eigen Values\")"
      ],
      "metadata": {
        "colab": {
          "base_uri": "https://localhost:8080/",
          "height": 297
        },
        "id": "7xVkP4j7xPtO",
        "outputId": "2dc154ed-709e-4194-a1ac-235533036208"
      },
      "execution_count": null,
      "outputs": [
        {
          "output_type": "execute_result",
          "data": {
            "text/plain": [
              "Text(0, 0.5, 'Eigen Values')"
            ]
          },
          "metadata": {},
          "execution_count": 33
        },
        {
          "output_type": "display_data",
          "data": {
            "text/plain": [
              "<Figure size 432x288 with 1 Axes>"
            ],
            "image/png": "[encoded data removed]"
          },
          "metadata": {
            "needs_background": "light"
          }
        }
      ]
    },
    {
      "cell_type": "code",
      "source": [
        "vars_s=[]\n",
        "for i in range(2,9):\n",
        "  pca=PCA(dfs,i)\n",
        "  red_df,var1=pca.reduceddim()\n",
        "  vars_s.append(var1)\n",
        "plt.bar(height=vars_s,x=[i for i in range(2,9)])\n",
        "plt.ylabel(\"Variance\")\n",
        "plt.xlabel(\"Number of PC\")\n",
        "plt.title(\"Standardized Data\")"
      ],
      "metadata": {
        "colab": {
          "base_uri": "https://localhost:8080/",
          "height": 312
        },
        "id": "Tyms66XSxtKe",
        "outputId": "1dd67768-29f2-4730-87e3-b84fac23017f"
      },
      "execution_count": null,
      "outputs": [
        {
          "output_type": "execute_result",
          "data": {
            "text/plain": [
              "Text(0.5, 1.0, 'Standardized Data')"
            ]
          },
          "metadata": {},
          "execution_count": 57
        },
        {
          "output_type": "display_data",
          "data": {
            "text/plain": [
              "<Figure size 432x288 with 1 Axes>"
            ],
            "image/png": "[encoded data removed]"
          },
          "metadata": {
            "needs_background": "light"
          }
        }
      ]
    },
    {
      "cell_type": "code",
      "source": [
        "pca2=PCA(dfs,8)\n",
        "red_dfs,vars=pca2.reduceddim()\n",
        "print(red_dfs)"
      ],
      "metadata": {
        "colab": {
          "base_uri": "https://localhost:8080/"
        },
        "id": "VCRSnG-aBWzs",
        "outputId": "10abb67b-17d8-47a0-98b0-2d4b7156f5e1"
      },
      "execution_count": null,
      "outputs": [
        {
          "output_type": "stream",
          "name": "stdout",
          "text": [
            "[[ 0.69065997  0.04177278 -1.89243657 ... -0.98395083  0.37491398\n",
            "   0.34843316]\n",
            " [ 0.54629214 -0.61253807  0.50137608 ... -0.14357024  0.58849715\n",
            "   0.83238958]\n",
            " [ 0.07146306  0.71472141 -1.0988024  ...  0.17135268 -0.59030406\n",
            "  -1.43827818]\n",
            " ...\n",
            " [-0.08898896 -0.70355668  1.02948269 ...  0.96501755 -1.48706328\n",
            "  -0.9166821 ]\n",
            " [-0.25666966  0.7258087  -1.20354284 ... -0.7707367   1.94012548\n",
            "   0.42360648]\n",
            " [ 0.78892982  0.12642624 -0.65434087 ... -0.85697047  1.75119611\n",
            "   1.2428637 ]]\n"
          ]
        }
      ]
    },
    {
      "cell_type": "code",
      "source": [
        "vec_s=eigenvecs(red_dfs,0,1)\n",
        "sns.scatterplot(x=red_dfs[:,0],y=red_dfs[:,1],hue=dfy,palette='dark',alpha=0.5)\n",
        "plt.arrow(0,0,vec_s[0][0]*1.5,vec_s[1][0]*1.5,head_width=0.2,color='black')\n",
        "plt.arrow(0,0,vec_s[0][1]*1.5,vec_s[1][1]*1.5,head_width=0.2,color='black')\n",
        "plt.xlabel(\"PC0\")\n",
        "plt.ylabel(\"PC1\")\n",
        "plt.title(\"Standardized\")"
      ],
      "metadata": {
        "colab": {
          "base_uri": "https://localhost:8080/",
          "height": 312
        },
        "id": "9Ob67JMjEUNs",
        "outputId": "426aed49-1bae-4063-cce2-f09cd7291269"
      },
      "execution_count": null,
      "outputs": [
        {
          "output_type": "execute_result",
          "data": {
            "text/plain": [
              "Text(0.5, 1.0, 'Standardized')"
            ]
          },
          "metadata": {},
          "execution_count": 62
        },
        {
          "output_type": "display_data",
          "data": {
            "text/plain": [
              "<Figure size 432x288 with 1 Axes>"
            ],
            "image/png": "[encoded data removed]"
          },
          "metadata": {
            "needs_background": "light"
          }
        }
      ]
    },
    {
      "cell_type": "code",
      "source": [
        "crossval_on_models(red_dfs,dfy,'Standardized Data Reduced using PCA')"
      ],
      "metadata": {
        "colab": {
          "base_uri": "https://localhost:8080/",
          "height": 330
        },
        "id": "G_teKDGbHlx4",
        "outputId": "7b07d3ff-d34c-4fa2-b3b7-603d13d1049e"
      },
      "execution_count": null,
      "outputs": [
        {
          "output_type": "stream",
          "name": "stdout",
          "text": [
            "5 fold cross validation on DTC: [0.84931507 0.85616438 0.87586207 0.82068966 0.85517241]\n",
            "5 fold cross validation on SVC: [0.79452055 0.81506849 0.82758621 0.80689655 0.8       ]\n"
          ]
        },
        {
          "output_type": "display_data",
          "data": {
            "text/plain": [
              "<Figure size 432x288 with 1 Axes>"
            ],
            "image/png": "[encoded data removed]"
          },
          "metadata": {
            "needs_background": "light"
          }
        }
      ]
    },
    {
      "cell_type": "code",
      "source": [
        "print(\"Befotre PCA\")\n",
        "_=evaluation_on_models(dfs,dfy)"
      ],
      "metadata": {
        "colab": {
          "base_uri": "https://localhost:8080/"
        },
        "id": "NE8ZK5JvHsB9",
        "outputId": "3fbfeb0e-f765-4fbd-cf72-129cb59f7aaf"
      },
      "execution_count": null,
      "outputs": [
        {
          "output_type": "stream",
          "name": "stdout",
          "text": [
            "Befotre PCA\n",
            "for DTC \n",
            "accuracy: 0.867579908675799 \n",
            "f1 score: 0.8630786306312783 \n",
            "precision: 0.8608930279567563 \n",
            "recall: 0.867579908675799\n",
            "for SVC \n",
            "accuracy: 0.817351598173516 \n",
            "f1 score: 0.744309484333308 \n",
            "precision: 0.7753647399487694 \n",
            "recall: 0.817351598173516\n"
          ]
        }
      ]
    },
    {
      "cell_type": "code",
      "source": [
        "print(\"After PCA\")\n",
        "_=evaluation_on_models(red_dfs,dfy)"
      ],
      "metadata": {
        "colab": {
          "base_uri": "https://localhost:8080/"
        },
        "id": "wwyWJIQ7H86q",
        "outputId": "61208746-61da-4f30-8b57-83835d3bb962"
      },
      "execution_count": null,
      "outputs": [
        {
          "output_type": "stream",
          "name": "stdout",
          "text": [
            "After PCA\n",
            "for DTC \n",
            "accuracy: 0.867579908675799 \n",
            "f1 score: 0.8552863347143568 \n",
            "precision: 0.8691318030359126 \n",
            "recall: 0.867579908675799\n",
            "for SVC \n",
            "accuracy: 0.7899543378995434 \n",
            "f1 score: 0.7206232390945302 \n",
            "precision: 0.7416829745596868 \n",
            "recall: 0.7899543378995434\n"
          ]
        }
      ]
    },
    {
      "cell_type": "code",
      "source": [
        "dfs_eig=np.flip(pca2.eigens())\n",
        "plt.plot(dfs_eig,marker='o')\n",
        "plt.xlabel(\"Feature index\")\n",
        "plt.ylabel(\"Eigen Values\")"
      ],
      "metadata": {
        "colab": {
          "base_uri": "https://localhost:8080/",
          "height": 296
        },
        "id": "uQ-W7S0eIoh1",
        "outputId": "4188946b-0104-4914-c86a-7e77b4149ed1"
      },
      "execution_count": null,
      "outputs": [
        {
          "output_type": "execute_result",
          "data": {
            "text/plain": [
              "Text(0, 0.5, 'Eigen Values')"
            ]
          },
          "metadata": {},
          "execution_count": 39
        },
        {
          "output_type": "display_data",
          "data": {
            "text/plain": [
              "<Figure size 432x288 with 1 Axes>"
            ],
            "image/png": "[encoded data removed]"
          },
          "metadata": {
            "needs_background": "light"
          }
        }
      ]
    },
    {
      "cell_type": "markdown",
      "source": [
        "# Q2"
      ],
      "metadata": {
        "id": "Y0ujHKOpio0l"
      }
    },
    {
      "cell_type": "code",
      "source": [
        "def plot_decision_boundary(clf, X, Y, cmap='tab20b'):\n",
        "    h =0.05\n",
        "    x_min, x_max = X[:,0].min() - 10*h, X[:,0].max() + 10*h\n",
        "    y_min, y_max = X[:,1].min() - 10*h, X[:,1].max() + 10*h\n",
        "    xx, yy = np.meshgrid(np.arange(x_min, x_max, h),\n",
        "                         np.arange(y_min, y_max, h))\n",
        "    Z=[]\n",
        "    for i in np.c_[xx.ravel(), yy.ravel()]:\n",
        "      Z.append(clf.predict(i))\n",
        "    Z = Z.reshape(xx.shape)\n",
        "    plt.figure(figsize=(7,5))\n",
        "    plt.contourf(xx, yy, Z, cmap=cmap)\n",
        "    plt.contour(xx, yy, Z, colors='k', linewidths=0.7)\n",
        "    plt.scatter(X[:,0], X[:,1], c=Y, cmap=cmap, edgecolors='k')"
      ],
      "metadata": {
        "id": "dV7if8zmFFZr"
      },
      "execution_count": null,
      "outputs": []
    },
    {
      "cell_type": "code",
      "source": [
        "wine_data=pd.read_csv(\"/content/wine.data\")\n",
        "wine_y=wine_data['1']\n",
        "wine_data=wine_data.drop(['1'],axis=1)\n",
        "wine_x=wine_data.to_numpy()"
      ],
      "metadata": {
        "id": "mT5ehsenq9g6"
      },
      "execution_count": null,
      "outputs": []
    },
    {
      "cell_type": "code",
      "source": [
        "class LDA:\n",
        "  def __init__(self,x,y,thresh):\n",
        "    self.x=x\n",
        "    self.y=y\n",
        "    self.n=len(x[0])\n",
        "    self.eigvals=[]\n",
        "    self.eigvecs=[]\n",
        "    self.sw=np.zeros((self.n,self.n))\n",
        "    self.sb=np.zeros((self.n,self.n))\n",
        "    self.classes=np.unique(self.y)\n",
        "    self.means=[]\n",
        "    self.mat=[]\n",
        "    self.thresh=thresh\n",
        "    self.w=[]\n",
        "    self.red_data=[]\n",
        "\n",
        "  def makeSW(self):\n",
        "    for i in self.classes:\n",
        "      x=self.x[self.y==i]\n",
        "      u=np.mean(x,axis=0)\n",
        "      self.means.append(u)\n",
        "      self.sw+=np.cov(x.T)\n",
        "    # print(\"sw\",self.sw)\n",
        "\n",
        "  def makeSB(self):\n",
        "    u=np.mean(self.x,axis=0)\n",
        "    count=[]\n",
        "    for i in self.classes:\n",
        "      count.append(np.count_nonzero(self.y==i))\n",
        "    # print(count)\n",
        "    for ind,i in enumerate(self.means):\n",
        "      # print(i-u)\n",
        "      self.sb+=count[ind]*((i-u).reshape(self.n,1))@(i-u).reshape(1,self.n)\n",
        "    # print(\"sb\",self.sb)\n",
        "\n",
        "  def eigen(self):\n",
        "    u,vec=np.linalg.eig(self.mat)\n",
        "    self.eigvecs=vec\n",
        "    # print(\"eigen vectors:\",vec)\n",
        "    # print(u)\n",
        "    for i in range(self.n):\n",
        "      v=self.eigvecs[:,i]\n",
        "      v=v.reshape(self.n,1)\n",
        "      x=self.mat@v\n",
        "      self.eigvals.append(np.mean(x/v))\n",
        "\n",
        "  def makeMat(self):\n",
        "    self.mat=(np.linalg.inv(self.sw))@(self.sb)\n",
        "\n",
        "  def reduceddim(self):\n",
        "\n",
        "    self.makeSW()\n",
        "    self.makeSB()\n",
        "    self.makeMat()\n",
        "    self.eigen()\n",
        "\n",
        "    for i in range(self.n):\n",
        "      if(self.eigvals[i]<0):\n",
        "        self.eigvals[i]=-self.eigvals[i]\n",
        "        self.eigvecs[:,i]=-self.eigvecs[:,i]\n",
        "\n",
        "    pair_=[]\n",
        "\n",
        "    var_till_ind=0\n",
        "    totvar=sum(self.eigvals)\n",
        "    vals=np.sort(self.eigvals)\n",
        "    w=[]\n",
        "    for i in reversed(vals):\n",
        "      var_till_ind+=i\n",
        "      w.append(self.eigvecs[:,self.eigvals==i].ravel())\n",
        "      if(var_till_ind/totvar>=self.thresh):\n",
        "        break\n",
        "    w=np.array(w)\n",
        "    self.w=w.T\n",
        "\n",
        "    self.red_data=self.x@self.w\n",
        "    return(self.red_data)\n",
        "\n",
        "  def g(self,sig,u,x,p):\n",
        "    return(1/2*(np.transpose(x)@sig@u + np.transpose(u)@sig@x - np.transpose(u)@sig@u) + np.log(p))\n",
        "\n",
        "  def predict(self,x_test):\n",
        "    test=x_test@self.w\n",
        "    sig=np.cov(self.red_data.T)\n",
        "    us=[]\n",
        "    prir=[]\n",
        "\n",
        "    for i in self.classes:\n",
        "      x=self.red_data[self.y==i]\n",
        "      us.append(np.mean(x,axis=0))\n",
        "      prir.append((np.count_nonzero(self.y==i))/(len(self.y)))\n",
        "\n",
        "    pred=-1\n",
        "    max_g=-1\n",
        "    for i in range(len(self.classes)):\n",
        "      gs=self.g(sig,us[i],test,prir[i])\n",
        "      if(gs>max_g):\n",
        "        max_g=gs\n",
        "        pred=self.classes[i]\n",
        "    return(pred)"
      ],
      "metadata": {
        "id": "5zpW_zqwgSfw"
      },
      "execution_count": null,
      "outputs": []
    },
    {
      "cell_type": "code",
      "source": [
        "lda1=LDA(wine_x,wine_y,0.95)\n",
        "wine_red_lda=lda1.reduceddim().real"
      ],
      "metadata": {
        "id": "dANGKd4bIH10"
      },
      "execution_count": null,
      "outputs": []
    },
    {
      "cell_type": "code",
      "source": [
        "wine_x_train,wine_x_test,wine_y_train,wine_y_test=tts(wine_x,wine_y,test_size=0.35)"
      ],
      "metadata": {
        "id": "pCr9V9r8qEUn"
      },
      "execution_count": null,
      "outputs": []
    },
    {
      "cell_type": "code",
      "source": [
        "sns.scatterplot(x=wine_red_lda[:,0],y=wine_red_lda[:,1],hue=wine_y,palette='dark')"
      ],
      "metadata": {
        "colab": {
          "base_uri": "https://localhost:8080/",
          "height": 282
        },
        "id": "vyUGUPT-CviT",
        "outputId": "ffbf76a9-b1c2-4938-e652-6a7ab5c38c5f"
      },
      "execution_count": null,
      "outputs": [
        {
          "output_type": "execute_result",
          "data": {
            "text/plain": [
              "<Axes: >"
            ]
          },
          "metadata": {},
          "execution_count": 46
        },
        {
          "output_type": "display_data",
          "data": {
            "text/plain": [
              "<Figure size 432x288 with 1 Axes>"
            ],
            "image/png": "[encoded data removed]"
          },
          "metadata": {
            "needs_background": "light"
          }
        }
      ]
    },
    {
      "cell_type": "code",
      "source": [
        "pca3=PCA(wine_x,2)\n",
        "wine_red_pca,var_wine=pca3.reduceddim()\n",
        "wine_red_pca=wine_red_pca.real"
      ],
      "metadata": {
        "id": "Kt04XpJJD9Rj"
      },
      "execution_count": null,
      "outputs": []
    },
    {
      "cell_type": "code",
      "source": [
        "acc_lda=evaluation_on_models(wine_red_lda,wine_y)"
      ],
      "metadata": {
        "colab": {
          "base_uri": "https://localhost:8080/"
        },
        "id": "rK3vhMjYH3cC",
        "outputId": "6f49c7f0-eaaf-455a-fef9-c727afa9d7a9"
      },
      "execution_count": null,
      "outputs": [
        {
          "output_type": "stream",
          "name": "stdout",
          "text": [
            "for DTC \n",
            "accuracy: 1.0 \n",
            "f1 score: 1.0 \n",
            "precision: 1.0 \n",
            "recall: 1.0\n",
            "for SVC \n",
            "accuracy: 1.0 \n",
            "f1 score: 1.0 \n",
            "precision: 1.0 \n",
            "recall: 1.0\n"
          ]
        }
      ]
    },
    {
      "cell_type": "code",
      "source": [
        "acc_pca=evaluation_on_models(wine_red_pca,wine_y)"
      ],
      "metadata": {
        "colab": {
          "base_uri": "https://localhost:8080/"
        },
        "id": "fZ2_XKlLJRHw",
        "outputId": "ef597ebb-0bfd-4634-a46f-2c295709fbf9"
      },
      "execution_count": null,
      "outputs": [
        {
          "output_type": "stream",
          "name": "stdout",
          "text": [
            "for DTC \n",
            "accuracy: 0.9074074074074074 \n",
            "f1 score: 0.9090848806366049 \n",
            "precision: 0.9166666666666666 \n",
            "recall: 0.9074074074074074\n",
            "for SVC \n",
            "accuracy: 0.8888888888888888 \n",
            "f1 score: 0.8913498379015621 \n",
            "precision: 0.9044011544011544 \n",
            "recall: 0.8888888888888888\n"
          ]
        }
      ]
    },
    {
      "cell_type": "code",
      "source": [
        "table=[['DTC',acc_lda[0],acc_pca[0]],['SVC',acc_lda[1],acc_pca[1]]]\n",
        "head=['models \\ reduction technique','LDA','PCA']\n",
        "print(tabulate(table, headers=head, tablefmt=\"grid\"))"
      ],
      "metadata": {
        "colab": {
          "base_uri": "https://localhost:8080/"
        },
        "id": "8h7RJ4OJKh1-",
        "outputId": "f54efa56-7f1a-40f2-f633-72aa9b21c457"
      },
      "execution_count": null,
      "outputs": [
        {
          "output_type": "stream",
          "name": "stdout",
          "text": [
            "+--------------------------------+-------+----------+\n",
            "| models \\ reduction technique   |   LDA |      PCA |\n",
            "+================================+=======+==========+\n",
            "| DTC                            |     1 | 0.907407 |\n",
            "+--------------------------------+-------+----------+\n",
            "| SVC                            |     1 | 0.888889 |\n",
            "+--------------------------------+-------+----------+\n"
          ]
        }
      ]
    },
    {
      "cell_type": "code",
      "source": [
        "fivefoldtest(wine_x,wine_y)"
      ],
      "metadata": {
        "colab": {
          "base_uri": "https://localhost:8080/"
        },
        "id": "exbXwQQTm4FE",
        "outputId": "cf22dfe0-e173-4558-b27f-c4242fb6d630"
      },
      "execution_count": null,
      "outputs": [
        {
          "output_type": "execute_result",
          "data": {
            "text/plain": [
              "[0.8611111111111112,\n",
              " 1.0,\n",
              " 0.9714285714285714,\n",
              " 0.9142857142857143,\n",
              " 0.9714285714285714]"
            ]
          },
          "metadata": {},
          "execution_count": 52
        }
      ]
    }
  ]
}